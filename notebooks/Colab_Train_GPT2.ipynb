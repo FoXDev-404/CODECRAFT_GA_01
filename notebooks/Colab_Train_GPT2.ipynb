{
 "cells": [
  {
   "cell_type": "markdown",
   "metadata": {},
   "source": [
    "# CODECRAFT_GA_01: GPT-2 Text Generation with Google Colab\n",
    "\n",
    "This notebook provides a complete environment for fine-tuning GPT-2 on your custom text dataset, generating text, and saving the fine-tuned model, all within Google Colab."
   ]
  },
  {
   "cell_type": "markdown",
   "metadata": {},
   "source": [
    "## 1. Setup Environment\n",
    "\n",
    "First, we'll install the necessary libraries and clone the project repository."
   ]
  },
  {
   "cell_type": "code",
   "execution_count": null,
   "metadata": {},
   "outputs": [],
   "source": [
    "# Install dependencies\n",
    "!pip install -r requirements.txt\n",
    "\n",
    "# Clone the repository\n",
    "!git clone https://github.com/FoXDev-404/CODECRAFT_GA_01.git\n",
    "%cd CODECRAFT_GA_01"
   ]
  },
  {
   "cell_type": "markdown",
   "metadata": {},
   "source": [
    "## 2. Prepare Your Dataset\n",
    "\n",
    "You can either upload your own `.txt` dataset or use the provided `data/sample_corpus.txt`."
   ]
  },
  {
   "cell_type": "code",
   "execution_count": null,
   "metadata": {},
   "outputs": [],
   "source": [
    "# Option 1: Upload your custom dataset\n",
    "# If you have a custom dataset, upload it to the 'data/' directory.\n",
    "# For example, if your file is 'my_custom_data.txt', upload it and then set:\n",
    "# custom_dataset_path = \"data/my_custom_data.txt\"\n",
    "\n",
    "from google.colab import files\n",
    "import os\n",
    "\n",
    "custom_dataset_path = \"data/sample_corpus.txt\" # Default to sample corpus\n",
    "\n",
    "upload_choice = input(\"Do you want to upload a custom dataset? (yes/no): \").lower()\n",
    "\n",
    "if upload_choice == 'yes':\n",
    "    uploaded = files.upload()\n",
    "    for filename in uploaded.keys():\n",
    "        print(f'User uploaded file \"{filename}\" with length {len(uploaded[filename])} bytes')\n",
    "        # Move the uploaded file to the data directory\n",
    "        os.rename(filename, os.path.join(\"data\", filename))\n",
    "        custom_dataset_path = os.path.join(\"data\", filename)\n",
    "        print(f\"Using custom dataset: {custom_dataset_path}\")\n",
    "else:\n",
    "    print(f\"Using default dataset: {custom_dataset_path}\")\n",
    "\n",
    "# Verify dataset exists\n",
    "if not os.path.exists(custom_dataset_path):\n",
    "    raise FileNotFoundError(f\"Dataset not found at {custom_dataset_path}. Please check the path or upload your file.\")"
   ]
  },
  {
   "cell_type": "markdown",
   "metadata": {},
   "source": [
    "## 3. Configure and Train GPT-2\n",
    "\n",
    "Set your training hyperparameters and choose between full fine-tuning or LoRA/PEFT."
   ]
  },
  {
   "cell_type": "code",
   "execution_count": null,
   "metadata": {},
   "outputs": [],
   "source": [
    "import yaml\n",
    "import os\n",
    "\n",
    "# Define configuration file to use (default.yaml for full fine-tuning, lora.yaml for LoRA)\n",
    "config_file = \"configs/default.yaml\" # Change to \"configs/lora.yaml\" for LoRA\n",
    "\n",
    "# Load the configuration\n",
    "with open(config_file, 'r') as f:\n",
    "    config = yaml.safe_load(f)\n",
    "\n",
    "# Update dataset path in config\n",
    "config['dataset_path'] = custom_dataset_path\n",
    "\n",
    "# You can override hyperparameters here directly if needed\n",
    "# config['training_args']['num_train_epochs'] = 5\n",
    "# config['training_args']['per_device_train_batch_size'] = 8\n",
    "# config['training_args']['learning_rate'] = 1e-4\n",
    "\n",
    "# Save the updated config to a temporary file for the script to read\n",
    "temp_config_path = \"configs/colab_temp_config.yaml\"\n",
    "with open(temp_config_path, 'w') as f:\n",
    "    yaml.dump(config, f)\n",
    "\n",
    "print(f\"Training with configuration from {temp_config_path}:\")\n",
    "print(yaml.dump(config))\n",
    "\n",
    "# Run the training script\n",
    "!python src/train_gpt2.py --config {temp_config_path}"
   ]
  },
  {
   "cell_type": "markdown",
   "metadata": {},
   "source": [
    "## 4. Generate Text Samples\n",
    "\n",
    "After training, generate new text using your fine-tuned model."
   ]
  },
  {
   "cell_type": "code",
   "execution_count": null,
   "metadata": {},
   "outputs": [],
   "source": [
    "# Define the path to your fine-tuned model\n",
    "# This should match the output_dir in your config file (e.g., output/gpt2_finetuned/final_model)\n",
    "fine_tuned_model_path = config['output_dir'] + \"/final_model\"\n",
    "\n",
    "# Check if the model directory exists\n",
    "if not os.path.exists(fine_tuned_model_path):\n",
    "    # Try to find the latest checkpoint if final_model doesn't exist yet\n",
    "    import glob\n",
    "    checkpoints = glob.glob(os.path.join(config['output_dir'], \"checkpoint-*\"))\n",
    "    if checkpoints:\n",
    "        fine_tuned_model_path = max(checkpoints, key=os.path.getmtime)\n",
    "        print(f\"'final_model' not found. Using latest checkpoint: {fine_tuned_model_path}\")\n",
    "    else:\n",
    "        raise FileNotFoundError(f\"No fine-tuned model found at {fine_tuned_model_path} or any checkpoints.\")\n",
    "\n",
    "prompt_text = \"Once upon a time, in a land far away,\"\n",
    "max_gen_length = config.get('gen_max_length', 100)\n",
    "num_gen_sequences = config.get('gen_num_return_sequences', 3)\n",
    "\n",
    "!python src/generate_text.py \\\n",
    "    --model_path \"{fine_tuned_model_path}\" \\\n",
    "    --prompt \"{prompt_text}\" \\\n",
    "    --max_length {max_gen_length} \\\n",
    "    --num_return_sequences {num_gen_sequences}"
   ]
  },
  {
   "cell_type": "markdown",
   "metadata": {},
   "source": [
    "## 5. Save Fine-tuned Model to Google Drive\n",
    "\n",
    "Mount your Google Drive and save the fine-tuned model for future use."
   ]
  },
  {
   "cell_type": "code",
   "execution_count": null,
   "metadata": {},
   "outputs": [],
   "source": [
    "from google.colab import drive\n",
    "import shutil\n",
    "\n",
    "drive.mount('/content/drive')\n",
    "\n",
    "drive_save_path = \"/content/drive/MyDrive/gpt2_finetuned_model\"\n",
    "os.makedirs(drive_save_path, exist_ok=True)\n",
    "\n",
    "print(f\"Copying model from {fine_tuned_model_path} to {drive_save_path}\")\n",
    "try:\n",
    "    shutil.copytree(fine_tuned_model_path, drive_save_path, dirs_exist_ok=True)\n",
    "    print(\"Model successfully saved to Google Drive!\")\n",
    "except Exception as e:\n",
    "    print(f\"Error saving model to Google Drive: {e}\")"
   ]
  }
 ],
 "metadata": {
  "colab": {
   "collapsed_sections": [],
   "provenance": []
  },
  "kernelspec": {
   "display_name": "Python 3",
   "name": "python3"
  },
  "language_info": {
   "name": "python"
  }
 },
 "nbformat": 4,
 "nbformat_minor": 0
}
